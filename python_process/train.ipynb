{
 "cells": [
  {
   "cell_type": "code",
   "execution_count": null,
   "metadata": {
    "code_folding": []
   },
   "outputs": [],
   "source": [
    "# train.py整体完成运行\n",
    "import torch.nn as nn\n",
    "import os\n",
    "import time\n",
    "import json\n",
    "import argparse\n",
    "import sys\n",
    "import torch\n",
    "import torch.nn as nn\n",
    "import torch.optim as optim\n",
    "from torch.optim.lr_scheduler import StepLR\n",
    "from torch.utils.data import DataLoader\n",
    "from torch.utils.tensorboard import SummaryWriter\n",
    "from torchsummary import summary\n",
    "import numpy as np\n",
    "import scipy.io as scio\n",
    "import random\n",
    "import cv2\n",
    "from scipy.ndimage import gaussian_filter\n",
    "import matplotlib.pyplot as plt\n",
    "from tqdm import tqdm\n",
    "from model import CDModel\n",
    "from utils import *"
   ]
  },
  {
   "cell_type": "code",
   "execution_count": null,
   "metadata": {},
   "outputs": [],
   "source": [
    "os.environ[\"CUDA_VISIBLE_DEVICES\"] = \"1\"\n",
    "nb_channels=[16,32,64]\n",
    "model_name='CDModel'\n",
    "model = CDModel(nb_channels=nb_channels)\n",
    "SCR=-30#可调节\n",
    "batch_size = 16\n",
    "win_size = 4\n",
    "V_target_max = 20\n",
    "R_range=[(67-10)*6,(334+10)*6]\n",
    "threshold=0.3\n",
    "acc_base=0.8\n",
    "n_class=1\n",
    "lr=1e-5\n",
    "epoch_start=0\n",
    "epochs=350\n",
    "load_weight=False\n",
    "fliter='mean'"
   ]
  },
  {
   "cell_type": "code",
   "execution_count": null,
   "metadata": {},
   "outputs": [],
   "source": [
    "dataset_name='MTD_'+str(SCR)+'dB'+maxpool+'/'+filtering+'/'\n",
    "train_data=np.load('./dataset/'+dataset_name+'/train_data.npy')\n",
    "train_confmaps=np.load('./dataset/'+dataset_name+'/train_confmaps.npy')\n",
    "test_data=np.load('./dataset/'+dataset_name+'/test_data.npy')\n",
    "test_confmaps=np.load('./dataset/'+dataset_name+'/test_confmaps.npy')\n",
    "dataset = subDataset(train_data,train_confmaps)\n",
    "dataloader = DataLoader(dataset, batch_size=batch_size, shuffle=True, num_workers=0)"
   ]
  },
  {
   "cell_type": "code",
   "execution_count": null,
   "metadata": {
    "scrolled": true
   },
   "outputs": [],
   "source": [
    "print(\"Building model\")\n",
    "model_save_path='./model_save/'+dataset_name+'/'+model_name+'/'\n",
    "writer_path='runs/'+dataset_name+'/'+model_name\n",
    "writer = SummaryWriter(writer_path)\n",
    "if(os.path.exists(model_save_path)==False):\n",
    "    os.makedirs(model_save_path)\n",
    "if(os.path.exists(writer_path)==False):\n",
    "    os.makedirs(writer_path)\n",
    "\n",
    "#多显卡训练\n",
    "model = nn.DataParallel(model).cuda()\n",
    "criterion = nn.MSELoss()#论文里是BCELoss()\n",
    "optimizer = optim.Adam(model.parameters(), lr=lr)"
   ]
  },
  {
   "cell_type": "code",
   "execution_count": null,
   "metadata": {
    "code_folding": [],
    "scrolled": true
   },
   "outputs": [],
   "source": [
    "if (load_weight):\n",
    "    model.load_state_dict(torch.load(model_save_path+'epoch_'+str(epoch_start-1)+'.pkl'))\n",
    "\n",
    "# 开始训练\n",
    "time_start = time.time()\n",
    "for epoch in range(epoch_start, epochs):\n",
    "    for batch, dataset_batch in enumerate(tqdm(dataloader)):\n",
    "        data_train,confmaps_train=dataset_batch\n",
    "\n",
    "        optimizer.zero_grad()  # zero the parameter gradients\n",
    "        confmap_preds = model(data_train.float().cuda())\n",
    "        #confmap_preds=[batch_size, class, win_size, h, w]\n",
    "        train_loss_confmap = criterion(confmap_preds, confmaps_train.float().cuda())  # MSELoss\n",
    "        train_loss_class,train_loss_pos= loss_class_pos(confmap_preds,confmaps_train,threshold,criterion)\n",
    "        train_loss_pos=1-math.exp(-train_loss_pos)\n",
    "        train_loss=ScaleSum(train_loss_confmap,train_loss_class,train_loss_pos)\n",
    "        train_loss.backward()\n",
    "        optimizer.step()\n",
    "    \n",
    "    test_loss,test_acc,fa,drate,pos_err=TestConfmap(test_data,test_confmaps,criterion,model,threshold,R_range,V_target_max)\n",
    "    \n",
    "    print('epoch:%d'%epoch,'test_acc:%.3f'%test_acc,'虚警率:%.3f'%(fa),'检测率:%.3f'%(drate),'time:%fh'%((time.time() - time_start)/3600))\n",
    "    print('test_loss:%f'%test_loss,'train_loss:%f'%train_loss,'train_loss_confmap:%f'%train_loss_confmap)\n",
    "\n",
    "    if(epoch%5==0):\n",
    "        # 保存网络中的参数, 速度快，占空间少\n",
    "        torch.save(model.state_dict(),model_save_path+'epoch_'+str(epoch)+'.pkl')\n",
    "        \n",
    "\n",
    "print('Training Finished.')\n"
   ]
  },
  {
   "cell_type": "code",
   "execution_count": null,
   "metadata": {},
   "outputs": [],
   "source": []
  },
  {
   "cell_type": "code",
   "execution_count": null,
   "metadata": {},
   "outputs": [],
   "source": []
  },
  {
   "cell_type": "code",
   "execution_count": null,
   "metadata": {},
   "outputs": [],
   "source": []
  },
  {
   "cell_type": "code",
   "execution_count": null,
   "metadata": {},
   "outputs": [],
   "source": []
  },
  {
   "cell_type": "code",
   "execution_count": null,
   "metadata": {},
   "outputs": [],
   "source": []
  }
 ],
 "metadata": {
  "kernelspec": {
   "display_name": "rodnet",
   "language": "python",
   "name": "rodnet"
  },
  "language_info": {
   "codemirror_mode": {
    "name": "ipython",
    "version": 3
   },
   "file_extension": ".py",
   "mimetype": "text/x-python",
   "name": "python",
   "nbconvert_exporter": "python",
   "pygments_lexer": "ipython3",
   "version": "3.6.13"
  },
  "toc": {
   "base_numbering": 1,
   "nav_menu": {},
   "number_sections": true,
   "sideBar": true,
   "skip_h1_title": false,
   "title_cell": "Table of Contents",
   "title_sidebar": "Contents",
   "toc_cell": false,
   "toc_position": {},
   "toc_section_display": true,
   "toc_window_display": false
  }
 },
 "nbformat": 4,
 "nbformat_minor": 5
}
